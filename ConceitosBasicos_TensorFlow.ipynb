{
  "nbformat": 4,
  "nbformat_minor": 0,
  "metadata": {
    "colab": {
      "name": "ConceitosBasicos_TensorFlow.ipynb",
      "version": "0.3.2",
      "provenance": []
    },
    "kernelspec": {
      "name": "python3",
      "display_name": "Python 3"
    }
  },
  "cells": [
    {
      "metadata": {
        "id": "xqjLDXiPv9oo",
        "colab_type": "code",
        "colab": {
          "base_uri": "https://localhost:8080/",
          "height": 425
        },
        "outputId": "30759149-a00c-43ae-978c-25524b9da2a0"
      },
      "cell_type": "code",
      "source": [
        "#COM PYTHON\n",
        "preco = [1.00, 2.00, 3.00]\n",
        "qtd = [1000, 2000, 3000]\n",
        "vendas = sum([p * a for p, a in zip(preco,qtd)])\n",
        "print(vendas)\n",
        "\n",
        "#COM NUMPY\n",
        "import numpy as np;\n",
        "preco = np.array(preco)\n",
        "qtd = np.array(qtd)\n",
        "vendas = np.sum(preco * amount)\n",
        "print(vendas)\n",
        "\n",
        "#TENSOR BÁSICO\n",
        "import tensorflow as tf\n",
        "print(tf.__version__)\n",
        "v1 = tf.Variable(0.0)\n",
        "p1 = tf.placeholder(tf.float32)\n",
        "new_val = tf.add(v1, p1)\n",
        "update = tf.assign(v1, new_val)\n",
        "\n",
        "with tf.Session() as sess:\n",
        "  sess.run(tf.global_variables_initializer())\n",
        "  for _ in range(5):\n",
        "    sess.run(update, feed_dict={p1: 1.0})\n",
        "  print(sess.run(v1))\n",
        "\n",
        "\n",
        "\n",
        "#DIVERSAS FORMAS DE CRIAR MATRIZES\n",
        "x1 = [[1.0, 2.0],[3.0, 4.0]] #CORE PYTHON\n",
        "x2 = np.array([[1.0, 2.0],[3.0, 4.0]], dtype=np.float32) #NUMPY\n",
        "x3 = tf.constant([[1.0, 2.0],[3.0, 4.0]]) #TENSORFLOW\n",
        "print(type(x1))\n",
        "print(type(x2))\n",
        "print(type(x3))\n",
        "\n",
        "#Convertendo matrizes para tensores\n",
        "t1 = tf.convert_to_tensor(x1, dtype=tf.float32)\n",
        "t2 = tf.convert_to_tensor(x2, dtype=tf.float32)\n",
        "t3 = tf.convert_to_tensor(x3, dtype=tf.float32)\n",
        "print(type(t1))\n",
        "print(type(t2))\n",
        "print(type(t3))\n",
        "\n",
        "#Usando uma sessão interativa\n",
        "sess = tf.InteractiveSession()\n",
        "raw_data = [1., 2., 8., -1., 0., 5.5, 6., 13]\n",
        "spike = tf.Variable(False)\n",
        "spike.initializer.run()\n",
        "for i in range(1, len(raw_data)):\n",
        "  if raw_data[i] - raw_data[i-1] > 5:\n",
        "    updater = tf.assign(spike, True)\n",
        "    updater.eval()\n",
        "  else:\n",
        "    tf.assign(spike, False).eval()\n",
        "  print(\"Spike\", spike.eval())\n",
        "  \n",
        "#criando uma matriz 500 X 500 composta por valores 0.5   \n",
        "t1 = tf.ones([500,500], tf.float32) * 0.5\n",
        "print(t1.eval())\n",
        "\n",
        "\n",
        "sess.close()"
      ],
      "execution_count": 5,
      "outputs": [
        {
          "output_type": "stream",
          "text": [
            "14000.0\n",
            "14000.0\n",
            "1.13.1\n",
            "5.0\n",
            "<class 'list'>\n",
            "<class 'numpy.ndarray'>\n",
            "<class 'tensorflow.python.framework.ops.Tensor'>\n",
            "<class 'tensorflow.python.framework.ops.Tensor'>\n",
            "<class 'tensorflow.python.framework.ops.Tensor'>\n",
            "<class 'tensorflow.python.framework.ops.Tensor'>\n",
            "Spike False\n",
            "Spike True\n",
            "Spike False\n",
            "Spike False\n",
            "Spike True\n",
            "Spike False\n",
            "Spike True\n",
            "[[0.5 0.5 0.5 ... 0.5 0.5 0.5]\n",
            " [0.5 0.5 0.5 ... 0.5 0.5 0.5]\n",
            " [0.5 0.5 0.5 ... 0.5 0.5 0.5]\n",
            " ...\n",
            " [0.5 0.5 0.5 ... 0.5 0.5 0.5]\n",
            " [0.5 0.5 0.5 ... 0.5 0.5 0.5]\n",
            " [0.5 0.5 0.5 ... 0.5 0.5 0.5]]\n"
          ],
          "name": "stdout"
        }
      ]
    }
  ]
}