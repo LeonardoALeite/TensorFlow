{
  "nbformat": 4,
  "nbformat_minor": 0,
  "metadata": {
    "colab": {
      "name": "Exemploregressaolinear.ipynb",
      "version": "0.3.2",
      "provenance": [],
      "collapsed_sections": []
    },
    "kernelspec": {
      "name": "python3",
      "display_name": "Python 3"
    }
  },
  "cells": [
    {
      "cell_type": "markdown",
      "metadata": {
        "id": "MCH7Js18fmul",
        "colab_type": "text"
      },
      "source": [
        "Modelo de Regressão Linear usando TensorFlow\n",
        "Realiza o import do TensorFlow, com o numpy para os dados iniciais e usa o matplotlib para visualizar os dados\n"
      ]
    },
    {
      "cell_type": "code",
      "metadata": {
        "id": "9-nRVrtbf2AJ",
        "colab_type": "code",
        "colab": {}
      },
      "source": [
        "%matplotlib inline\n",
        "import tensorflow as tf\n",
        "import numpy as np\n",
        "import matplotlib.pyplot as plt"
      ],
      "execution_count": 0,
      "outputs": []
    },
    {
      "cell_type": "markdown",
      "metadata": {
        "id": "hVflKEOjf4zS",
        "colab_type": "text"
      },
      "source": [
        "Define os Hyper-Parameters"
      ]
    },
    {
      "cell_type": "code",
      "metadata": {
        "id": "X_LOotDngBHs",
        "colab_type": "code",
        "colab": {}
      },
      "source": [
        "learning_rate = 0.01\n",
        "training_epochs = 100"
      ],
      "execution_count": 0,
      "outputs": []
    },
    {
      "cell_type": "markdown",
      "metadata": {
        "id": "BmUCNf-rgid6",
        "colab_type": "text"
      },
      "source": [
        "Carrega os dados fake e faz o plot"
      ]
    },
    {
      "cell_type": "code",
      "metadata": {
        "id": "BDhp8NZvgoXL",
        "colab_type": "code",
        "colab": {
          "base_uri": "https://localhost:8080/",
          "height": 286
        },
        "outputId": "636adb48-ffa5-4037-f836-c3cf5e917b65"
      },
      "source": [
        "x_train = np.linspace(-1, 1, 101)\n",
        "y_train = 2 * x_train + np.random.randn(*x_train.shape) * 0.33\n",
        "plt.scatter(x_train, y_train)"
      ],
      "execution_count": 6,
      "outputs": [
        {
          "output_type": "execute_result",
          "data": {
            "text/plain": [
              "<matplotlib.collections.PathCollection at 0x7fc050d30198>"
            ]
          },
          "metadata": {
            "tags": []
          },
          "execution_count": 6
        },
        {
          "output_type": "display_data",
          "data": {
            "image/png": "[encoded data removed]",
            "text/plain": [
              "<Figure size 432x288 with 1 Axes>"
            ]
          },
          "metadata": {
            "tags": []
          }
        }
      ]
    },
    {
      "cell_type": "markdown",
      "metadata": {
        "id": "jgyiqejlgzKX",
        "colab_type": "text"
      },
      "source": [
        "Define os nodes de Input e outPut do valor que será injetado pelo X_train e o y_train\n"
      ]
    },
    {
      "cell_type": "code",
      "metadata": {
        "id": "daNJ4yXchNDq",
        "colab_type": "code",
        "colab": {}
      },
      "source": [
        "X = tf.placeholder(\"float\")\n",
        "Y = tf.placeholder(\"float\")"
      ],
      "execution_count": 0,
      "outputs": []
    },
    {
      "cell_type": "markdown",
      "metadata": {
        "id": "4vNR9FcShtwW",
        "colab_type": "text"
      },
      "source": [
        "Define o modelo como  y = w'*x\n"
      ]
    },
    {
      "cell_type": "code",
      "metadata": {
        "id": "vte-bx88hw3s",
        "colab_type": "code",
        "colab": {}
      },
      "source": [
        "def model(X, w):\n",
        "    return tf.multiply(X, w)"
      ],
      "execution_count": 0,
      "outputs": []
    },
    {
      "cell_type": "markdown",
      "metadata": {
        "id": "tOhuYhYuh1iC",
        "colab_type": "text"
      },
      "source": [
        "Define a variavel weights variable"
      ]
    },
    {
      "cell_type": "code",
      "metadata": {
        "id": "jXWojUH3h7uy",
        "colab_type": "code",
        "colab": {
          "base_uri": "https://localhost:8080/",
          "height": 34
        },
        "outputId": "22e07e0d-704e-4c50-c298-b2af4d65b6f7"
      },
      "source": [
        "w = tf.Variable(0.0, name=\"weights\")"
      ],
      "execution_count": 13,
      "outputs": [
        {
          "output_type": "stream",
          "text": [
            "<bound method RefVariable.value of <tf.Variable 'weights_4:0' shape=() dtype=float32_ref>>\n"
          ],
          "name": "stdout"
        }
      ]
    },
    {
      "cell_type": "markdown",
      "metadata": {
        "id": "EpXla1hPh_tS",
        "colab_type": "text"
      },
      "source": [
        "Define a Cost Function e a mean squared erro\n",
        "\n"
      ]
    },
    {
      "cell_type": "code",
      "metadata": {
        "id": "q1hNVbNUjH_F",
        "colab_type": "code",
        "colab": {}
      },
      "source": [
        "y_model = model(X, w)\n",
        "cost = tf.reduce_mean(tf.square(Y-y_model))\n"
      ],
      "execution_count": 0,
      "outputs": []
    },
    {
      "cell_type": "markdown",
      "metadata": {
        "id": "_bqg5frnjR2s",
        "colab_type": "text"
      },
      "source": [
        "Define a operacao que sera chamada em cada interacao no algoritmo de aprendizado\n"
      ]
    },
    {
      "cell_type": "code",
      "metadata": {
        "id": "o77tdVBcjdzU",
        "colab_type": "code",
        "colab": {}
      },
      "source": [
        "train_op = tf.train.GradientDescentOptimizer(learning_rate).minimize(cost)"
      ],
      "execution_count": 0,
      "outputs": []
    },
    {
      "cell_type": "markdown",
      "metadata": {
        "id": "nsno475_jiIK",
        "colab_type": "text"
      },
      "source": [
        "Inicia todas as variaveis\n"
      ]
    },
    {
      "cell_type": "code",
      "metadata": {
        "id": "VODXjJ7Ejlb_",
        "colab_type": "code",
        "colab": {}
      },
      "source": [
        "sess = tf.Session()\n",
        "init = tf.global_variables_initializer()\n",
        "sess.run(init)"
      ],
      "execution_count": 0,
      "outputs": []
    },
    {
      "cell_type": "markdown",
      "metadata": {
        "id": "GuFmHQoojp92",
        "colab_type": "text"
      },
      "source": [
        "Treinamento em cada  (x, y) pair multiplas vezes\n"
      ]
    },
    {
      "cell_type": "code",
      "metadata": {
        "id": "ajKvB15Ej5dr",
        "colab_type": "code",
        "colab": {}
      },
      "source": [
        "for epoch in range(training_epochs):\n",
        "    for (x, y) in zip(x_train, y_train):\n",
        "        sess.run(train_op, feed_dict={X: x, Y: y})"
      ],
      "execution_count": 0,
      "outputs": []
    },
    {
      "cell_type": "markdown",
      "metadata": {
        "id": "mcftUeiBj6hJ",
        "colab_type": "text"
      },
      "source": [
        "Buscar o valor do parâmetro de learned\n"
      ]
    },
    {
      "cell_type": "code",
      "metadata": {
        "id": "3MRp7PwWkG_x",
        "colab_type": "code",
        "colab": {}
      },
      "source": [
        "w_val = sess.run(w)\n",
        "sess.close()"
      ],
      "execution_count": 0,
      "outputs": []
    },
    {
      "cell_type": "markdown",
      "metadata": {
        "id": "7QI9uHurkOJT",
        "colab_type": "text"
      },
      "source": [
        "Visualiza a best fit curve"
      ]
    },
    {
      "cell_type": "code",
      "metadata": {
        "id": "-nSEpCoLkUsy",
        "colab_type": "code",
        "colab": {
          "base_uri": "https://localhost:8080/",
          "height": 269
        },
        "outputId": "614994de-0c08-407f-831e-7fe4629b3305"
      },
      "source": [
        "plt.scatter(x_train, y_train)\n",
        "y_learned = x_train*w_val\n",
        "plt.plot(x_train, y_learned, 'r')\n",
        "plt.show()"
      ],
      "execution_count": 21,
      "outputs": [
        {
          "output_type": "display_data",
          "data": {
            "image/png": "[encoded data removed]",
            "text/plain": [
              "<Figure size 432x288 with 1 Axes>"
            ]
          },
          "metadata": {
            "tags": []
          }
        }
      ]
    }
  ]
}